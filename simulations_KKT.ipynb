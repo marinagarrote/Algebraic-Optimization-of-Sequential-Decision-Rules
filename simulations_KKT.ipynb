{
 "cells": [
  {
   "cell_type": "code",
   "execution_count": null,
   "id": "e6bc9fe8-026f-4019-bd72-b6ce1c8e64bc",
   "metadata": {},
   "outputs": [],
   "source": [
    "using JuMP\n",
    "import Ipopt\n",
    "using Distributions\n",
    "using Dates\n",
    "using JLD2\n",
    "include(\"utilities.jl\")\n",
    "folder = pwd() "
   ]
  },
  {
   "cell_type": "code",
   "execution_count": null,
   "id": "faba240f-3875-4b6c-af52-9f3b666aa83d",
   "metadata": {},
   "outputs": [],
   "source": [
    "actions_states = [2 3; 3 4; 3 5]\n",
    "D = [[[3], [2 1], [1 1 1]], [[4], [3 1], [2 2], [2 1 1], [1 1 1 1]], [[5], [3 2], [4 1], [3,1,1], [2,2,1], [2,1,1,1], [1,1,1,1,1]]]\n",
    "iterations = 1"
   ]
  },
  {
   "cell_type": "code",
   "execution_count": null,
   "id": "82629cba-f747-47a3-a0bb-47b013a489a9",
   "metadata": {},
   "outputs": [],
   "source": [
    "for i in 1:size(actions_states)[1]\n",
    "    (nA, nS) =  actions_states[i,:]\n",
    "    for j in 1:length(D[i])\n",
    "        dₒ = D[i][j]\n",
    "        nO = length(dₒ)\n",
    "        println(\"nA = \", nA, \", nS = \", nS, \", dₒ = \", dₒ)\n",
    "        for it in 1:iterations\n",
    "            γ = 0.9\n",
    "            Mβ = load_object(string(folder,\"/Data/beta_\", nA, \"_\", nS, \"_\", nO, \"_\", j, \"_\", it))\n",
    "            Mα = load_object(string(folder,\"/Data/alpha_\", nA, \"_\", nS, \"_\", nO, \"_\", j, \"_\", it))\n",
    "            r = load_object(string(folder,\"/Data/r_\", nA, \"_\", nS, \"_\", nO, \"_\", j, \"_\", it))\n",
    "            μ = load_object(string(folder,\"/Data/mu_\", nA, \"_\", nS, \"_\", nO, \"_\", j, \"_\", it))\n",
    "\n",
    "            ### Solve Systems\n",
    "            tKKT = @elapsed (nC_total, n_nonSing, n_nonSing_real, n_nonSing_pos, n_sing, n_sing_real, n_sing_pos,\n",
    "                           η_nonSing_max, r_nonSing_max, η_sing_max, r_sing_max, maxη) = KKTSolve(Mα, Mβ, r, γ, μ, true)\n",
    "\n",
    "            ### Print Data\n",
    "            extraInfoKKT = (\"KKT\", tKKT, r_nonSing_max, r_sing_max, maxη, nC_total,\n",
    "                            n_nonSing, n_nonSing_real, n_nonSing_pos, n_sing, n_sing_real, n_sing_pos)\n",
    "            infoFile = string(folder, \"/Results/KKT/KKT_info_\", nA, \"_\", nS, \"_\", nO, \"_\", j, \"_\", it, \".txt\")\n",
    "            open(infoFile, \"w\") do f\n",
    "                println(f, extraInfoKKT)\n",
    "            end\n",
    "        end\n",
    "    end\n",
    "end\n"
   ]
  }
 ],
 "metadata": {
  "kernelspec": {
   "display_name": "Julia 1.8.0",
   "language": "julia",
   "name": "julia-1.8"
  },
  "language_info": {
   "file_extension": ".jl",
   "mimetype": "application/julia",
   "name": "julia",
   "version": "1.8.0"
  }
 },
 "nbformat": 4,
 "nbformat_minor": 5
}
