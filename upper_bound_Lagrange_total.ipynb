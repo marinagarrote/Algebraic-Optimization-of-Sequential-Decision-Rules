{
 "cells": [
  {
   "cell_type": "code",
   "execution_count": null,
   "id": "d2ee1400-d05e-4731-8733-f0b6c588d658",
   "metadata": {},
   "outputs": [],
   "source": [
    "using JuMP\n",
    "import Ipopt\n",
    "using Distributions\n",
    "using Dates\n",
    "using Combinatorics\n",
    "#using Pkg\n",
    "#Pkg.add(\"JLD2\")\n",
    "using JLD2\n",
    "include(\"utilities.jl\")\n",
    "folder = \"/net/stzs3/export/clusterhome/jmueller/MEGA/New/\""
   ]
  },
  {
   "cell_type": "code",
   "execution_count": 1,
   "id": "76726def-2987-48b9-b7ce-9c6098c9960a",
   "metadata": {},
   "outputs": [],
   "source": [
    "actions_states = [2 3; 3 4; 3 5]\n",
    "D = [[[3], [2 1], [1 1 1]], [[4], [3 1], [2 2], [2 1 1], [1 1 1 1]], [[5], [3 2], [4 1], [3,1,1], [2,2,1], [2,1,1,1], [1,1,1,1,1]]];"
   ]
  },
  {
   "cell_type": "code",
   "execution_count": 36,
   "id": "55bb6093-3623-4df7-83ca-8681a9ff23b2",
   "metadata": {
    "tags": []
   },
   "outputs": [
    {
     "name": "stdout",
     "output_type": "stream",
     "text": [
      "nS = 3, nA = 2, dₒ = [3], upper bound: 10\n",
      "nS = 3, nA = 2, dₒ = [2 1], upper bound: 10\n",
      "nS = 3, nA = 2, dₒ = [1 1 1], upper bound: 8\n",
      "nS = 4, nA = 3, dₒ = [4], upper bound: 1419\n",
      "nS = 4, nA = 3, dₒ = [3 1], upper bound: 2237\n",
      "nS = 4, nA = 3, dₒ = [2 2], upper bound: 1265\n",
      "nS = 4, nA = 3, dₒ = [2 1 1], upper bound: 1189\n",
      "nS = 4, nA = 3, dₒ = [1 1 1 1], upper bound: 81\n",
      "nS = 5, nA = 3, dₒ = [5], upper bound: 9411\n",
      "nS = 5, nA = 3, dₒ = [3 2], upper bound: 13431\n",
      "nS = 5, nA = 3, dₒ = [4 1], upper bound: 23745\n",
      "nS = 5, nA = 3, dₒ = [3, 1, 1], upper bound: 24363\n",
      "nS = 5, nA = 3, dₒ = [2, 2, 1], upper bound: 12159\n",
      "nS = 5, nA = 3, dₒ = [2, 1, 1, 1], upper bound: 9195\n",
      "nS = 5, nA = 3, dₒ = [1, 1, 1, 1, 1], upper bound: 243\n",
      "job finished\n"
     ]
    }
   ],
   "source": [
    "for i in 1:3  # size(actions_states)[1]\n",
    "    (nA, nS) =  actions_states[i,:]\n",
    "    for j in 1:length(D[i])\n",
    "        dₒ = D[i][j]\n",
    "        nO = length(dₒ)\n",
    "        Mβ = load_object(string(folder,\"Data/beta_\", nA, \"_\", nS, \"_\", nO, \"_\", j, \"_\", 1))\n",
    "        vdₒ = Array{Int64}(sum(eachcol(Mβ)))\n",
    "        Aₒ = []; countAₒ = []\n",
    "        for d in vdₒ\n",
    "            subsets = collect(Combinatorics.powerset(1:nA, 0, nA-1))\n",
    "            push!(Aₒ, subsets)\n",
    "            push!(countAₒ, Vector(1:length(subsets)))\n",
    "        end\n",
    "\n",
    "        indices = collect(Base.product(countAₒ...))\n",
    "        BOUND = []\n",
    "        \n",
    "        FACES = []\n",
    "        SOLS = []\n",
    "        for idx in indices\n",
    "            face = [Aₒ[x][idx[x]] for x in 1:length(Aₒ)]\n",
    "            \n",
    "            n = nS * (nA - 1) - sum(dₒ[i]*length(Aₒ[i][idx[i]]) for i in 1:nO)\n",
    "            m = sum((dₒ[i]-1)*(nA-length(Aₒ[i][idx[i]])-1) for i in 1:nO)\n",
    "            if n == 0\n",
    "                b = 1\n",
    "            else\n",
    "                b = 2^m*binomial(n-1, m-1)\n",
    "            end\n",
    "            BOUND = append!(BOUND, b)\n",
    "\n",
    "        end\n",
    "        println(\"nS = \", nS, \", nA = \", nA, \", dₒ = \", dₒ, \", upper bound: \", sum(BOUND))\n",
    "    end\n",
    "end\n",
    "\n",
    "println(\"job finished\")\n"
   ]
  },
  {
   "cell_type": "code",
   "execution_count": 34,
   "id": "f92543f9-1af8-4c1b-974a-3638f4c43e68",
   "metadata": {},
   "outputs": [
    {
     "name": "stdout",
     "output_type": "stream",
     "text": [
      "nS = 3, nA = 2, dₒ = [3], upper bound: 10\n",
      "nS = 3, nA = 2, dₒ = [2 1], upper bound: 8\n",
      "nS = 3, nA = 2, dₒ = [1 1 1], upper bound: 8\n",
      "nS = 4, nA = 3, dₒ = [4], upper bound: 1419\n",
      "nS = 4, nA = 3, dₒ = [3 1], upper bound: 561\n",
      "nS = 4, nA = 3, dₒ = [2 2], upper bound: 153\n",
      "nS = 4, nA = 3, dₒ = [2 1 1], upper bound: 81\n",
      "nS = 4, nA = 3, dₒ = [1 1 1 1], upper bound: 81\n",
      "nS = 5, nA = 3, dₒ = [5], upper bound: 9411\n",
      "nS = 5, nA = 3, dₒ = [3 2], upper bound: 4371\n",
      "nS = 5, nA = 3, dₒ = [4 1], upper bound: 4257\n",
      "nS = 5, nA = 3, dₒ = [3, 1, 1], upper bound: 1683\n",
      "nS = 5, nA = 3, dₒ = [2, 2, 1], upper bound: 459\n",
      "nS = 5, nA = 3, dₒ = [2, 1, 1, 1], upper bound: 243\n",
      "nS = 5, nA = 3, dₒ = [1, 1, 1, 1, 1], upper bound: 243\n",
      "job finished\n"
     ]
    }
   ],
   "source": [
    " for i in 1:3  # size(actions_states)[1]\n",
    "    (nA, nS) =  actions_states[i,:]\n",
    "    for j in 1:length(D[i])\n",
    "        dₒ = D[i][j]\n",
    "        nO = length(dₒ)\n",
    "        Mβ = load_object(string(folder,\"Data/beta_\", nA, \"_\", nS, \"_\", nO, \"_\", j, \"_\", 1))\n",
    "        vdₒ = Array{Int64}(sum(eachcol(Mβ)))\n",
    "        Aₒ = []; countAₒ = []\n",
    "        for d in vdₒ\n",
    "            subsets = collect(Combinatorics.powerset(1:nA, maximum([0,nA-d]), nA-1))\n",
    "            push!(Aₒ, subsets)\n",
    "            push!(countAₒ, Vector(1:length(subsets)))\n",
    "        end\n",
    "\n",
    "        indices = collect(Base.product(countAₒ...))\n",
    "        BOUND = []\n",
    "        \n",
    "        FACES = []\n",
    "        SOLS = []\n",
    "        for idx in indices\n",
    "            face = [Aₒ[x][idx[x]] for x in 1:length(Aₒ)]\n",
    "            \n",
    "            n = nS * (nA - 1) - sum(vdₒ[i]*length(Aₒ[i][idx[i]]) for i in 1:nO)\n",
    "            m = sum((vdₒ[i]-1)*(nA-length(Aₒ[i][idx[i]])-1) for i in 1:nO)\n",
    "            if n == 0\n",
    "                b = 1\n",
    "            else\n",
    "                b = 2^m*binomial(n-1, m-1)\n",
    "            end\n",
    "            BOUND = append!(BOUND, b)\n",
    "\n",
    "        end\n",
    "        println(\"nS = \", nS, \", nA = \", nA, \", dₒ = \", dₒ, \", upper bound: \", sum(BOUND))\n",
    "    end\n",
    "end\n",
    "\n",
    "println(\"job finished\")\n"
   ]
  },
  {
   "cell_type": "code",
   "execution_count": 33,
   "id": "7b8ed395-3fc0-4a66-8780-f853a2e0bb9a",
   "metadata": {},
   "outputs": [
    {
     "name": "stdout",
     "output_type": "stream",
     "text": [
      "nS = 4, nA = 3, dₒ = [3 1], upper bound: 561\n",
      "job finished\n"
     ]
    }
   ],
   "source": [
    "i = 2\n",
    "(nA, nS) =  actions_states[i,:]\n",
    "j = 2\n",
    "dₒ = D[i][j]\n",
    "nO = length(dₒ)\n",
    "Mβ = load_object(string(folder,\"Data/beta_\", nA, \"_\", nS, \"_\", nO, \"_\", j, \"_\", 1))\n",
    "vdₒ = Array{Int64}(sum(eachcol(Mβ)))\n",
    "Aₒ = []; countAₒ = []\n",
    "for d in vdₒ\n",
    "    subsets = collect(Combinatorics.powerset(1:nA, maximum([0,nA-d]), nA-1))\n",
    "    push!(Aₒ, subsets)\n",
    "    push!(countAₒ, Vector(1:length(subsets)))\n",
    "end\n",
    "\n",
    "indices = collect(Base.product(countAₒ...))\n",
    "BOUND = []\n",
    "\n",
    "FACES = []\n",
    "SOLS = []\n",
    "for idx in indices\n",
    "    face = [Aₒ[x][idx[x]] for x in 1:length(Aₒ)]\n",
    "\n",
    "    n = nS * (nA - 1) - sum(vdₒ[i]*length(Aₒ[i][idx[i]]) for i in 1:nO)\n",
    "    m = sum((vdₒ[i]-1)*(nA-length(Aₒ[i][idx[i]])-1) for i in 1:nO)\n",
    "    if n == 0\n",
    "        b = 1\n",
    "    else\n",
    "        b = 2^m*binomial(n-1, m-1)\n",
    "    end\n",
    "    BOUND = append!(BOUND, b)\n",
    "\n",
    "end\n",
    "println(\"nS = \", nS, \", nA = \", nA, \", dₒ = \", dₒ, \", upper bound: \", sum(BOUND))\n",
    "\n",
    "println(\"job finished\")\n"
   ]
  },
  {
   "cell_type": "code",
   "execution_count": 17,
   "id": "cf304c12-bdd8-418f-901b-e4cdef913c35",
   "metadata": {},
   "outputs": [
    {
     "data": {
      "text/plain": [
       "21-element Vector{Any}:\n",
       " 0\n",
       " 0\n",
       " 0\n",
       " 0\n",
       " 0\n",
       " 0\n",
       " 0\n",
       " 0\n",
       " 0\n",
       " 0\n",
       " 0\n",
       " 0\n",
       " 1\n",
       " 1\n",
       " 1\n",
       " 1\n",
       " 1\n",
       " 1\n",
       " 1\n",
       " 1\n",
       " 1"
      ]
     },
     "execution_count": 17,
     "metadata": {},
     "output_type": "execute_result"
    }
   ],
   "source": [
    "BOUND"
   ]
  },
  {
   "cell_type": "code",
   "execution_count": 29,
   "id": "5e3cba48-637e-43ba-9e5d-04d77ac0822b",
   "metadata": {},
   "outputs": [
    {
     "data": {
      "text/plain": [
       "2-element Vector{Vector{Int64}}:\n",
       " [1, 3]\n",
       " [2]"
      ]
     },
     "execution_count": 29,
     "metadata": {},
     "output_type": "execute_result"
    }
   ],
   "source": [
    "idx = indices[8]\n",
    "face = [Aₒ[x][idx[x]] for x in 1:length(Aₒ)]"
   ]
  },
  {
   "cell_type": "code",
   "execution_count": 31,
   "id": "a9676b97-41cb-4dc8-86a9-9fd006eea9e2",
   "metadata": {},
   "outputs": [
    {
     "data": {
      "text/plain": [
       "3"
      ]
     },
     "execution_count": 31,
     "metadata": {},
     "output_type": "execute_result"
    }
   ],
   "source": [
    "n = nS * (nA - 1) - sum(vdₒ[i]*length(Aₒ[i][idx[i]]) for i in 1:nO)"
   ]
  },
  {
   "cell_type": "code",
   "execution_count": 32,
   "id": "3a889da4-323f-49a1-b715-8896903f1563",
   "metadata": {},
   "outputs": [
    {
     "data": {
      "text/plain": [
       "2"
      ]
     },
     "execution_count": 32,
     "metadata": {},
     "output_type": "execute_result"
    }
   ],
   "source": [
    "m = sum((vdₒ[i]-1)*(nA-length(Aₒ[i][idx[i]])-1) for i in 1:nO)"
   ]
  },
  {
   "cell_type": "code",
   "execution_count": 30,
   "id": "3cbc9576-7179-470e-9305-061b5fe3a096",
   "metadata": {},
   "outputs": [
    {
     "data": {
      "text/plain": [
       "2-element Vector{Int64}:\n",
       " 1\n",
       " 3"
      ]
     },
     "execution_count": 30,
     "metadata": {},
     "output_type": "execute_result"
    }
   ],
   "source": [
    "vdₒ = Array{Int64}(sum(eachcol(Mβ)))"
   ]
  },
  {
   "cell_type": "code",
   "execution_count": null,
   "id": "3f91dcdb-fae3-402f-bcce-70f6c4781ad7",
   "metadata": {},
   "outputs": [],
   "source": []
  }
 ],
 "metadata": {
  "kernelspec": {
   "display_name": "Julia 1.7.0",
   "language": "julia",
   "name": "julia-1.7"
  },
  "language_info": {
   "file_extension": ".jl",
   "mimetype": "application/julia",
   "name": "julia",
   "version": "1.7.0"
  }
 },
 "nbformat": 4,
 "nbformat_minor": 5
}
