{
 "cells": [
  {
   "cell_type": "code",
   "execution_count": null,
   "id": "acd9e1c1-8aac-4606-b685-fd3e0032f1ea",
   "metadata": {},
   "outputs": [],
   "source": [
    "using JuMP\n",
    "import Ipopt\n",
    "using Distributions\n",
    "using Dates\n",
    "using JLD2\n",
    "include(\"utilities.jl\")\n",
    "folder = pwd()"
   ]
  },
  {
   "cell_type": "code",
   "execution_count": null,
   "id": "14487831-c21d-4ae6-9ff8-5548976f87f5",
   "metadata": {},
   "outputs": [],
   "source": [
    "actions_states = [2 3; 3 4; 3 5]\n",
    "D = [[[3], [2 1], [1 1 1]], [[4], [3 1], [2 2], [2 1 1], [1 1 1 1]], [[5], [3 2], [4 1], [3,1,1], [2,2,1], [2,1,1,1], [1,1,1,1,1]]]\n",
    "iterations = 20"
   ]
  },
  {
   "cell_type": "code",
   "execution_count": null,
   "id": "a018a94a-41cd-45d0-8480-c97b3ed615e2",
   "metadata": {},
   "outputs": [],
   "source": [
    "for i in 1:size(actions_states)[1]\n",
    "    (nA, nS) =  actions_states[i,:]\n",
    "    for j in 1:length(D[i])\n",
    "        dₒ = D[i][j]\n",
    "        nO = length(dₒ)\n",
    "        println(\"nA = \", nA, \", nS = \", nS, \", dₒ = \", dₒ)\n",
    "        for it in 1:iterations\n",
    "\n",
    "            γ = 0.9\n",
    "            Mβ = load_object(string(folder,\"/Data/beta_\", nA, \"_\", nS, \"_\", nO, \"_\", j, \"_\", it))\n",
    "            Mα = load_object(string(folder,\"/Data/alpha_\", nA, \"_\", nS, \"_\", nO, \"_\", j, \"_\", it))\n",
    "            r = load_object(string(folder,\"/Data/r_\", nA, \"_\", nS, \"_\", nO, \"_\", j, \"_\", it))\n",
    "            μ = load_object(string(folder,\"/Data/mu_\", nA, \"_\", nS, \"_\", nO, \"_\", j, \"_\", it))\n",
    "\n",
    "            ### Use Ipopt to optimize\n",
    "            tIpopt = @elapsed ηIpopt = IpoptSolve(Mα, Mβ, r, γ, μ);\n",
    "            optIpopt = transpose(reshape(r, nS*nA))*reshape(ηIpopt, nS*nA)\n",
    "            \n",
    "            ### Print Data\n",
    "            extraInfoIpopt = (\"Ipopt\", tIpopt, optIpopt)\n",
    "            infoFile = string(folder, \"/Results/Ipopt/Ipopt_info_\", nA, \"_\", nS, \"_\", nO, \"_\", j, \"_\", it, \".txt\")\n",
    "            open(infoFile, \"w\") do f\n",
    "                println(f, extraInfoIpopt)\n",
    "            end\n",
    "        end\n",
    "    end\n",
    "end\n"
   ]
  }
 ],
 "metadata": {
  "kernelspec": {
   "display_name": "Julia 1.8.0",
   "language": "julia",
   "name": "julia-1.8"
  },
  "language_info": {
   "file_extension": ".jl",
   "mimetype": "application/julia",
   "name": "julia",
   "version": "1.8.0"
  }
 },
 "nbformat": 4,
 "nbformat_minor": 5
}
